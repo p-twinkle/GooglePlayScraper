{
 "cells": [
  {
   "cell_type": "code",
   "execution_count": null,
   "id": "9da08126-e6c6-4555-af12-ec7d23c3806b",
   "metadata": {},
   "outputs": [],
   "source": [
    "from google_play_scraper import reviews, Sort\n",
    "import pandas as pd\n",
    "import datetime\n",
    "\n",
    "start = datetime.datetime.now()\n",
    "\n",
    "# Scrape reviews for an app (e.g., Uber)\n",
    "result, _ = reviews(\n",
    "    'com.ubercab',              # App package name from Google Play Store\n",
    "    lang='en',                  # Language\n",
    "    country='us',               # Country\n",
    "    count=1000,                 # Number of reviews to scrape\n",
    "    sort=Sort.NEWEST            # Correct usage of the sort parameter\n",
    ")\n",
    "\n",
    "# Convert to DataFrame\n",
    "df = pd.DataFrame(result)\n",
    "\n",
    "end = datetime.datetime.now()\n",
    "print(f'Runtime: {end-start}')\n",
    "\n",
    "# Save to CSV\n",
    "df.to_csv('uber_reviews.csv', index=False)\n",
    "print()\n",
    "\n",
    "# Display results\n",
    "df.head()"
   ]
  },
  {
   "cell_type": "code",
   "execution_count": null,
   "id": "07b815f5-cddd-41d1-bdc6-28126d92af5b",
   "metadata": {},
   "outputs": [],
   "source": [
    "df.shape"
   ]
  }
 ],
 "metadata": {
  "kernelspec": {
   "display_name": "Python 3 (ipykernel)",
   "language": "python",
   "name": "python3"
  },
  "language_info": {
   "codemirror_mode": {
    "name": "ipython",
    "version": 3
   },
   "file_extension": ".py",
   "mimetype": "text/x-python",
   "name": "python",
   "nbconvert_exporter": "python",
   "pygments_lexer": "ipython3",
   "version": "3.12.5"
  }
 },
 "nbformat": 4,
 "nbformat_minor": 5
}
